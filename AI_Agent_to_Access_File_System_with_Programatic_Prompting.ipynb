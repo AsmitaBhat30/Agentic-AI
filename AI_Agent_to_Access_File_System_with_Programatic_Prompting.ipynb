{
  "nbformat": 4,
  "nbformat_minor": 0,
  "metadata": {
    "colab": {
      "provenance": []
    },
    "kernelspec": {
      "name": "python3",
      "display_name": "Python 3"
    },
    "language_info": {
      "name": "python"
    }
  },
  "cells": [
    {
      "cell_type": "code",
      "source": [
        "!!pip install litellm\n",
        "\n",
        "# Important!!!\n",
        "#\n",
        "# <---- Set your 'OPENAI_API_KEY' as a secret over there with the \"key\" icon\n",
        "#\n",
        "#\n",
        "# You will also want to add some sample files to the \"Files\" (folder icon)\n",
        "# on the left. When the agent asks you what to do, start with something\n",
        "# simplie like \"tell me what files are in this directory\"\n",
        "#\n",
        "import os\n",
        "from google.colab import userdata\n",
        "api_key = userdata.get('OPENAI_API_KEY')\n",
        "os.environ['OPENAI_API_KEY'] = api_key"
      ],
      "metadata": {
        "id": "EEkdLKo87z5g"
      },
      "execution_count": 3,
      "outputs": []
    },
    {
      "cell_type": "code",
      "execution_count": 4,
      "metadata": {
        "id": "oTbQrDwe4mJa"
      },
      "outputs": [],
      "source": [
        "from litellm import completion\n",
        "from typing import List, Dict"
      ]
    },
    {
      "cell_type": "code",
      "source": [
        "def generate_response(messages: List[Dict]):\n",
        "  response = completion(\n",
        "      model='gpt4',\n",
        "      messages=messages,\n",
        "      temperature=0.7,\n",
        "      max_tokens=1000,\n",
        "  )\n",
        "\n",
        "  return response.choices[0].message.content"
      ],
      "metadata": {
        "id": "Mnr3LEvM76WM"
      },
      "execution_count": null,
      "outputs": []
    }
  ]
}